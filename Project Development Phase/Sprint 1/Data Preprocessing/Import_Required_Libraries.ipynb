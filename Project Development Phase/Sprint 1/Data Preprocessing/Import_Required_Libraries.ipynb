{
  "nbformat": 4,
  "nbformat_minor": 0,
  "metadata": {
    "colab": {
      "provenance": [],
      "collapsed_sections": []
    },
    "kernelspec": {
      "name": "python3",
      "display_name": "Python 3"
    },
    "language_info": {
      "name": "python"
    }
  },
  "cells": [
    {
      "cell_type": "markdown",
      "source": [
        "## Import Required Libraries"
      ],
      "metadata": {
        "id": "3c2rf_uhQMKW"
      }
    },
    {
      "cell_type": "code",
      "execution_count": 6,
      "metadata": {
        "id": "p0hK_fFpK6S0"
      },
      "outputs": [],
      "source": [
        "import numpy as np # linear algebra\n",
        "import pandas as pd # data processing, CSV file I/O (e.g. pd.read_csv)\n",
        "import matplotlib.pyplot as plt # data visualisation lib\n",
        "import seaborn as sns # data visualisation lib\n",
        "from sklearn.model_selection import train_test_split # splitting data frame/data set\n",
        "from sklearn.linear_model import Lasso # importing ML lib\n",
        "from sklearn.linear_model import Ridge # importing ML lib\n",
        "from sklearn.metrics import mean_squared_error , r2_score # for accuracy metrics\n",
        "import joblib # for saving ML model\n",
        "%matplotlib inline"
      ]
    }
  ]
}