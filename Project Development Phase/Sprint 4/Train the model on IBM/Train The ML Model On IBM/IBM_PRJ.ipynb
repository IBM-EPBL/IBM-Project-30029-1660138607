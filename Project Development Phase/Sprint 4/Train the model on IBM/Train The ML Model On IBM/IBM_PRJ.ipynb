{
 "cells": [
  {
   "cell_type": "markdown",
   "metadata": {
    "id": "3c2rf_uhQMKW"
   },
   "source": [
    "## Import Required Libraries"
   ]
  },
  {
   "cell_type": "code",
   "execution_count": 37,
   "metadata": {
    "id": "p0hK_fFpK6S0"
   },
   "outputs": [],
   "source": [
    "import numpy as np # linear algebra\n",
    "import pandas as pd # data processing, CSV file I/O (e.g. pd.read_csv)\n",
    "import matplotlib.pyplot as plt # data visualisation lib\n",
    "import seaborn as sns # data visualisation lib\n",
    "from sklearn.model_selection import train_test_split # splitting data frame/data set\n",
    "from sklearn.linear_model import Lasso # importing ML lib\n",
    "from sklearn.linear_model import Ridge # importing ML lib\n",
    "from sklearn.metrics import mean_squared_error , r2_score # for accuracy metrics\n",
    "import joblib # for saving ML model\n",
    "%matplotlib inline"
   ]
  },
  {
   "cell_type": "code",
   "execution_count": 38,
   "metadata": {},
   "outputs": [
    {
     "data": {
      "text/html": [
       "<div>\n",
       "<style scoped>\n",
       "    .dataframe tbody tr th:only-of-type {\n",
       "        vertical-align: middle;\n",
       "    }\n",
       "\n",
       "    .dataframe tbody tr th {\n",
       "        vertical-align: top;\n",
       "    }\n",
       "\n",
       "    .dataframe thead th {\n",
       "        text-align: right;\n",
       "    }\n",
       "</style>\n",
       "<table border=\"1\" class=\"dataframe\">\n",
       "  <thead>\n",
       "    <tr style=\"text-align: right;\">\n",
       "      <th></th>\n",
       "      <th>Date/Time</th>\n",
       "      <th>LV ActivePower (kW)</th>\n",
       "      <th>Wind Speed (m/s)</th>\n",
       "      <th>Theoretical_Power_Curve (KWh)</th>\n",
       "      <th>Wind Direction in Degree</th>\n",
       "    </tr>\n",
       "  </thead>\n",
       "  <tbody>\n",
       "    <tr>\n",
       "      <th>0</th>\n",
       "      <td>01 01 2018 00:00</td>\n",
       "      <td>380.047791</td>\n",
       "      <td>5.311336</td>\n",
       "      <td>416.328908</td>\n",
       "      <td>259.994904</td>\n",
       "    </tr>\n",
       "    <tr>\n",
       "      <th>1</th>\n",
       "      <td>01 01 2018 00:10</td>\n",
       "      <td>453.769196</td>\n",
       "      <td>5.672167</td>\n",
       "      <td>519.917511</td>\n",
       "      <td>268.641113</td>\n",
       "    </tr>\n",
       "    <tr>\n",
       "      <th>2</th>\n",
       "      <td>01 01 2018 00:20</td>\n",
       "      <td>306.376587</td>\n",
       "      <td>5.216037</td>\n",
       "      <td>390.900016</td>\n",
       "      <td>272.564789</td>\n",
       "    </tr>\n",
       "    <tr>\n",
       "      <th>3</th>\n",
       "      <td>01 01 2018 00:30</td>\n",
       "      <td>419.645904</td>\n",
       "      <td>5.659674</td>\n",
       "      <td>516.127569</td>\n",
       "      <td>271.258087</td>\n",
       "    </tr>\n",
       "    <tr>\n",
       "      <th>4</th>\n",
       "      <td>01 01 2018 00:40</td>\n",
       "      <td>380.650696</td>\n",
       "      <td>5.577941</td>\n",
       "      <td>491.702972</td>\n",
       "      <td>265.674286</td>\n",
       "    </tr>\n",
       "  </tbody>\n",
       "</table>\n",
       "</div>"
      ],
      "text/plain": [
       "          Date/Time  LV ActivePower (kW)  Wind Speed (m/s)  \\\n",
       "0  01 01 2018 00:00           380.047791          5.311336   \n",
       "1  01 01 2018 00:10           453.769196          5.672167   \n",
       "2  01 01 2018 00:20           306.376587          5.216037   \n",
       "3  01 01 2018 00:30           419.645904          5.659674   \n",
       "4  01 01 2018 00:40           380.650696          5.577941   \n",
       "\n",
       "   Theoretical_Power_Curve (KWh)  Wind Direction in Degree  \n",
       "0                     416.328908                259.994904  \n",
       "1                     519.917511                268.641113  \n",
       "2                     390.900016                272.564789  \n",
       "3                     516.127569                271.258087  \n",
       "4                     491.702972                265.674286  "
      ]
     },
     "execution_count": 38,
     "metadata": {},
     "output_type": "execute_result"
    }
   ],
   "source": [
    "\n",
    "import io\n",
    "\n",
    "\n",
    "import os, types\n",
    "import pandas as pd\n",
    "from botocore.client import Config\n",
    "import ibm_boto3\n",
    "\n",
    "def __iter__(self): return 0\n",
    "\n",
    "# @hidden_cell\n",
    "# The following code accesses a file in your IBM Cloud Object Storage. It includes your credentials.\n",
    "# You might want to remove those credentials before you share the notebook.\n",
    "cos_client = ibm_boto3.client(service_name='s3',\n",
    "    ibm_api_key_id='tjWa-Thqw8P4B0t_-VsoRgeoEOhu3LHnaPgFjmi4BHAJ',\n",
    "    ibm_auth_endpoint=\"https://iam.cloud.ibm.com/oidc/token\",\n",
    "    config=Config(signature_version='oauth'),\n",
    "    endpoint_url='https://s3.private.us.cloud-object-storage.appdomain.cloud')\n",
    "\n",
    "bucket = 'powerprediction-donotdelete-pr-olesnkntdmdhmv'\n",
    "object_key = 'Wind_Dataset.csv'\n",
    "\n",
    "body = cos_client.get_object(Bucket=bucket,Key=object_key)['Body']\n",
    "# add missing __iter__ method, so pandas accepts body as file-like object\n",
    "if not hasattr(body, \"__iter__\"): body.__iter__ = types.MethodType( __iter__, body )\n",
    "\n",
    "data = pd.read_table(io.BytesIO(body.read()), sep='\\t',encoding='utf-16')\n",
    "data.head(5)\n"
   ]
  },
  {
   "cell_type": "markdown",
   "metadata": {
    "id": "HJjrlb97NbDl"
   },
   "source": [
    "## Loading the DataSet in Python Dataframe using Pandas"
   ]
  },
  {
   "cell_type": "markdown",
   "metadata": {
    "id": "3iDNxWHhQLGQ"
   },
   "source": [
    "# Data Preprocessing and Analysing"
   ]
  },
  {
   "cell_type": "markdown",
   "metadata": {
    "id": "9kv5e4ScRpn8"
   },
   "source": [
    "## Renaming the Column"
   ]
  },
  {
   "cell_type": "code",
   "execution_count": 39,
   "metadata": {
    "colab": {
     "base_uri": "https://localhost:8080/",
     "height": 81
    },
    "id": "sGLv-Cl4ReF2",
    "outputId": "8d75c798-815e-4807-db14-e5e92c703aee"
   },
   "outputs": [
    {
     "data": {
      "text/html": [
       "<div>\n",
       "<style scoped>\n",
       "    .dataframe tbody tr th:only-of-type {\n",
       "        vertical-align: middle;\n",
       "    }\n",
       "\n",
       "    .dataframe tbody tr th {\n",
       "        vertical-align: top;\n",
       "    }\n",
       "\n",
       "    .dataframe thead th {\n",
       "        text-align: right;\n",
       "    }\n",
       "</style>\n",
       "<table border=\"1\" class=\"dataframe\">\n",
       "  <thead>\n",
       "    <tr style=\"text-align: right;\">\n",
       "      <th></th>\n",
       "      <th>Date/Time</th>\n",
       "      <th>ActivePower</th>\n",
       "      <th>WindSpeed</th>\n",
       "      <th>TheoreticalPowerCurve</th>\n",
       "      <th>WindDirection</th>\n",
       "    </tr>\n",
       "  </thead>\n",
       "  <tbody>\n",
       "    <tr>\n",
       "      <th>0</th>\n",
       "      <td>01 01 2018 00:00</td>\n",
       "      <td>380.047791</td>\n",
       "      <td>5.311336</td>\n",
       "      <td>416.328908</td>\n",
       "      <td>259.994904</td>\n",
       "    </tr>\n",
       "  </tbody>\n",
       "</table>\n",
       "</div>"
      ],
      "text/plain": [
       "          Date/Time  ActivePower  WindSpeed  TheoreticalPowerCurve  \\\n",
       "0  01 01 2018 00:00   380.047791   5.311336             416.328908   \n",
       "\n",
       "   WindDirection  \n",
       "0     259.994904  "
      ]
     },
     "execution_count": 39,
     "metadata": {},
     "output_type": "execute_result"
    }
   ],
   "source": [
    "data.rename(columns = {'LV ActivePower (kW)':'ActivePower',\n",
    "                       \"Wind Speed (m/s)\":\"WindSpeed\",\n",
    "                       \"Wind Direction in Degree\":\"WindDirection\",\"Theoretical_Power_Curve (KWh)\":\"TheoreticalPowerCurve\"},\n",
    "            inplace = True)\n",
    "data.head(1)"
   ]
  },
  {
   "cell_type": "markdown",
   "metadata": {
    "id": "4dvptmieRwt8"
   },
   "source": [
    "## Handling the null values"
   ]
  },
  {
   "cell_type": "code",
   "execution_count": 40,
   "metadata": {
    "colab": {
     "base_uri": "https://localhost:8080/"
    },
    "id": "RrKDA-5RRst2",
    "outputId": "5d7ffb6f-198c-4092-a043-05767141754c"
   },
   "outputs": [
    {
     "data": {
      "text/plain": [
       "Date/Time                0\n",
       "ActivePower              0\n",
       "WindSpeed                0\n",
       "TheoreticalPowerCurve    0\n",
       "WindDirection            0\n",
       "dtype: int64"
      ]
     },
     "execution_count": 40,
     "metadata": {},
     "output_type": "execute_result"
    }
   ],
   "source": [
    "data.isnull().sum() # no null values found"
   ]
  },
  {
   "cell_type": "markdown",
   "metadata": {
    "id": "Ephuhm9VSDyY"
   },
   "source": [
    "##  to_datetime() method to convert string Date time into Python Date time object"
   ]
  },
  {
   "cell_type": "code",
   "execution_count": 41,
   "metadata": {
    "colab": {
     "base_uri": "https://localhost:8080/"
    },
    "id": "NvoNo1zzR2if",
    "outputId": "709ffd15-ae0c-4602-d874-e4d2ed4d42a7"
   },
   "outputs": [
    {
     "name": "stdout",
     "output_type": "stream",
     "text": [
      "0   2018-01-01 00:00:00\n",
      "1   2018-01-01 00:10:00\n",
      "2   2018-01-01 00:20:00\n",
      "3   2018-01-01 00:30:00\n",
      "4   2018-01-01 00:40:00\n",
      "Name: Date/Time, dtype: datetime64[ns]\n"
     ]
    }
   ],
   "source": [
    "data['Date/Time']=pd.to_datetime(data['Date/Time'])\n",
    "print(data['Date/Time'].head(5))"
   ]
  },
  {
   "cell_type": "code",
   "execution_count": 42,
   "metadata": {
    "colab": {
     "base_uri": "https://localhost:8080/",
     "height": 300
    },
    "id": "NZ6tu1keUZFs",
    "outputId": "c59eeab8-901d-4374-a8ad-bacba7768c17"
   },
   "outputs": [
    {
     "data": {
      "text/html": [
       "<div>\n",
       "<style scoped>\n",
       "    .dataframe tbody tr th:only-of-type {\n",
       "        vertical-align: middle;\n",
       "    }\n",
       "\n",
       "    .dataframe tbody tr th {\n",
       "        vertical-align: top;\n",
       "    }\n",
       "\n",
       "    .dataframe thead th {\n",
       "        text-align: right;\n",
       "    }\n",
       "</style>\n",
       "<table border=\"1\" class=\"dataframe\">\n",
       "  <thead>\n",
       "    <tr style=\"text-align: right;\">\n",
       "      <th></th>\n",
       "      <th>ActivePower</th>\n",
       "      <th>WindSpeed</th>\n",
       "      <th>TheoreticalPowerCurve</th>\n",
       "      <th>WindDirection</th>\n",
       "    </tr>\n",
       "  </thead>\n",
       "  <tbody>\n",
       "    <tr>\n",
       "      <th>count</th>\n",
       "      <td>50530.000000</td>\n",
       "      <td>50530.000000</td>\n",
       "      <td>50530.000000</td>\n",
       "      <td>50530.000000</td>\n",
       "    </tr>\n",
       "    <tr>\n",
       "      <th>mean</th>\n",
       "      <td>1307.684332</td>\n",
       "      <td>7.557952</td>\n",
       "      <td>1492.175463</td>\n",
       "      <td>123.687559</td>\n",
       "    </tr>\n",
       "    <tr>\n",
       "      <th>std</th>\n",
       "      <td>1312.459242</td>\n",
       "      <td>4.227166</td>\n",
       "      <td>1368.018238</td>\n",
       "      <td>93.443736</td>\n",
       "    </tr>\n",
       "    <tr>\n",
       "      <th>min</th>\n",
       "      <td>-2.471405</td>\n",
       "      <td>0.000000</td>\n",
       "      <td>0.000000</td>\n",
       "      <td>0.000000</td>\n",
       "    </tr>\n",
       "    <tr>\n",
       "      <th>25%</th>\n",
       "      <td>50.677890</td>\n",
       "      <td>4.201395</td>\n",
       "      <td>161.328167</td>\n",
       "      <td>49.315437</td>\n",
       "    </tr>\n",
       "    <tr>\n",
       "      <th>50%</th>\n",
       "      <td>825.838074</td>\n",
       "      <td>7.104594</td>\n",
       "      <td>1063.776282</td>\n",
       "      <td>73.712978</td>\n",
       "    </tr>\n",
       "    <tr>\n",
       "      <th>75%</th>\n",
       "      <td>2482.507568</td>\n",
       "      <td>10.300020</td>\n",
       "      <td>2964.972462</td>\n",
       "      <td>201.696720</td>\n",
       "    </tr>\n",
       "    <tr>\n",
       "      <th>max</th>\n",
       "      <td>3618.732910</td>\n",
       "      <td>25.206011</td>\n",
       "      <td>3600.000000</td>\n",
       "      <td>359.997589</td>\n",
       "    </tr>\n",
       "  </tbody>\n",
       "</table>\n",
       "</div>"
      ],
      "text/plain": [
       "        ActivePower     WindSpeed  TheoreticalPowerCurve  WindDirection\n",
       "count  50530.000000  50530.000000           50530.000000   50530.000000\n",
       "mean    1307.684332      7.557952            1492.175463     123.687559\n",
       "std     1312.459242      4.227166            1368.018238      93.443736\n",
       "min       -2.471405      0.000000               0.000000       0.000000\n",
       "25%       50.677890      4.201395             161.328167      49.315437\n",
       "50%      825.838074      7.104594            1063.776282      73.712978\n",
       "75%     2482.507568     10.300020            2964.972462     201.696720\n",
       "max     3618.732910     25.206011            3600.000000     359.997589"
      ]
     },
     "execution_count": 42,
     "metadata": {},
     "output_type": "execute_result"
    }
   ],
   "source": [
    "data.describe()"
   ]
  },
  {
   "cell_type": "code",
   "execution_count": 43,
   "metadata": {
    "colab": {
     "base_uri": "https://localhost:8080/"
    },
    "id": "5ynLn-vJUiw2",
    "outputId": "82d85ebb-5f1e-4f93-b69d-c248a79bc68b"
   },
   "outputs": [
    {
     "name": "stdout",
     "output_type": "stream",
     "text": [
      "<class 'pandas.core.frame.DataFrame'>\n",
      "RangeIndex: 50530 entries, 0 to 50529\n",
      "Data columns (total 5 columns):\n",
      " #   Column                 Non-Null Count  Dtype         \n",
      "---  ------                 --------------  -----         \n",
      " 0   Date/Time              50530 non-null  datetime64[ns]\n",
      " 1   ActivePower            50530 non-null  float64       \n",
      " 2   WindSpeed              50530 non-null  float64       \n",
      " 3   TheoreticalPowerCurve  50530 non-null  float64       \n",
      " 4   WindDirection          50530 non-null  float64       \n",
      "dtypes: datetime64[ns](1), float64(4)\n",
      "memory usage: 1.9 MB\n"
     ]
    }
   ],
   "source": [
    "data.info()"
   ]
  },
  {
   "cell_type": "markdown",
   "metadata": {
    "id": "bu8bpCHFSL9M"
   },
   "source": [
    "##  Creating separate Date, Month, Year, Hour, Minute column"
   ]
  },
  {
   "cell_type": "code",
   "execution_count": 44,
   "metadata": {
    "colab": {
     "base_uri": "https://localhost:8080/",
     "height": 206
    },
    "id": "7XTzV9TnSHCl",
    "outputId": "63bcedbc-74a3-4249-d3cd-5c00fb0eb570"
   },
   "outputs": [
    {
     "data": {
      "text/html": [
       "<div>\n",
       "<style scoped>\n",
       "    .dataframe tbody tr th:only-of-type {\n",
       "        vertical-align: middle;\n",
       "    }\n",
       "\n",
       "    .dataframe tbody tr th {\n",
       "        vertical-align: top;\n",
       "    }\n",
       "\n",
       "    .dataframe thead th {\n",
       "        text-align: right;\n",
       "    }\n",
       "</style>\n",
       "<table border=\"1\" class=\"dataframe\">\n",
       "  <thead>\n",
       "    <tr style=\"text-align: right;\">\n",
       "      <th></th>\n",
       "      <th>Date/Time</th>\n",
       "      <th>ActivePower</th>\n",
       "      <th>WindSpeed</th>\n",
       "      <th>TheoreticalPowerCurve</th>\n",
       "      <th>WindDirection</th>\n",
       "      <th>year</th>\n",
       "      <th>month</th>\n",
       "      <th>day</th>\n",
       "      <th>Hour</th>\n",
       "      <th>minute</th>\n",
       "    </tr>\n",
       "  </thead>\n",
       "  <tbody>\n",
       "    <tr>\n",
       "      <th>50525</th>\n",
       "      <td>2018-12-31 23:10:00</td>\n",
       "      <td>2963.980957</td>\n",
       "      <td>11.404030</td>\n",
       "      <td>3397.190793</td>\n",
       "      <td>80.502724</td>\n",
       "      <td>2018</td>\n",
       "      <td>12</td>\n",
       "      <td>31</td>\n",
       "      <td>23</td>\n",
       "      <td>10</td>\n",
       "    </tr>\n",
       "    <tr>\n",
       "      <th>50526</th>\n",
       "      <td>2018-12-31 23:20:00</td>\n",
       "      <td>1684.353027</td>\n",
       "      <td>7.332648</td>\n",
       "      <td>1173.055771</td>\n",
       "      <td>84.062599</td>\n",
       "      <td>2018</td>\n",
       "      <td>12</td>\n",
       "      <td>31</td>\n",
       "      <td>23</td>\n",
       "      <td>20</td>\n",
       "    </tr>\n",
       "    <tr>\n",
       "      <th>50527</th>\n",
       "      <td>2018-12-31 23:30:00</td>\n",
       "      <td>2201.106934</td>\n",
       "      <td>8.435358</td>\n",
       "      <td>1788.284755</td>\n",
       "      <td>84.742500</td>\n",
       "      <td>2018</td>\n",
       "      <td>12</td>\n",
       "      <td>31</td>\n",
       "      <td>23</td>\n",
       "      <td>30</td>\n",
       "    </tr>\n",
       "    <tr>\n",
       "      <th>50528</th>\n",
       "      <td>2018-12-31 23:40:00</td>\n",
       "      <td>2515.694092</td>\n",
       "      <td>9.421366</td>\n",
       "      <td>2418.382503</td>\n",
       "      <td>84.297913</td>\n",
       "      <td>2018</td>\n",
       "      <td>12</td>\n",
       "      <td>31</td>\n",
       "      <td>23</td>\n",
       "      <td>40</td>\n",
       "    </tr>\n",
       "    <tr>\n",
       "      <th>50529</th>\n",
       "      <td>2018-12-31 23:50:00</td>\n",
       "      <td>2820.466064</td>\n",
       "      <td>9.979332</td>\n",
       "      <td>2779.184096</td>\n",
       "      <td>82.274620</td>\n",
       "      <td>2018</td>\n",
       "      <td>12</td>\n",
       "      <td>31</td>\n",
       "      <td>23</td>\n",
       "      <td>50</td>\n",
       "    </tr>\n",
       "  </tbody>\n",
       "</table>\n",
       "</div>"
      ],
      "text/plain": [
       "                Date/Time  ActivePower  WindSpeed  TheoreticalPowerCurve  \\\n",
       "50525 2018-12-31 23:10:00  2963.980957  11.404030            3397.190793   \n",
       "50526 2018-12-31 23:20:00  1684.353027   7.332648            1173.055771   \n",
       "50527 2018-12-31 23:30:00  2201.106934   8.435358            1788.284755   \n",
       "50528 2018-12-31 23:40:00  2515.694092   9.421366            2418.382503   \n",
       "50529 2018-12-31 23:50:00  2820.466064   9.979332            2779.184096   \n",
       "\n",
       "       WindDirection  year  month  day  Hour  minute  \n",
       "50525      80.502724  2018     12   31    23      10  \n",
       "50526      84.062599  2018     12   31    23      20  \n",
       "50527      84.742500  2018     12   31    23      30  \n",
       "50528      84.297913  2018     12   31    23      40  \n",
       "50529      82.274620  2018     12   31    23      50  "
      ]
     },
     "execution_count": 44,
     "metadata": {},
     "output_type": "execute_result"
    }
   ],
   "source": [
    "data['year'] = data['Date/Time'].dt.year \n",
    "data['month'] = data['Date/Time'].dt.month \n",
    "data['day'] = data['Date/Time'].dt.day\n",
    "data['Hour'] = data['Date/Time'].dt.hour \n",
    "data['minute'] = data['Date/Time'].dt.minute \n",
    "data.tail(5)"
   ]
  },
  {
   "cell_type": "markdown",
   "metadata": {
    "id": "gacNLSyLTCsI"
   },
   "source": [
    "## Understanding the Data Distribution"
   ]
  },
  {
   "cell_type": "code",
   "execution_count": 45,
   "metadata": {
    "colab": {
     "base_uri": "https://localhost:8080/",
     "height": 585
    },
    "id": "RyYkaHJMSPCn",
    "outputId": "d2f23c56-0275-41b0-df63-611a31894e32"
   },
   "outputs": [
    {
     "data": {
      "image/png": "[encoded data removed]",
      "text/plain": [
       "<Figure size 720x576 with 4 Axes>"
      ]
     },
     "metadata": {
      "needs_background": "light"
     },
     "output_type": "display_data"
    }
   ],
   "source": [
    "#plotting the data distribution with the help of Matplotlib library\n",
    "plt.figure(figsize=(10, 8))\n",
    "for i in range(4):\n",
    "    plt.subplot(2, 2, i+1)\n",
    "    sns.kdeplot(data.iloc[:,i+1], shade=True)\n",
    "    plt.title(data.columns[i+1])\n",
    "plt.tight_layout()\n",
    "plt.show()"
   ]
  },
  {
   "cell_type": "markdown",
   "metadata": {
    "id": "-8jFT3_LU8MN"
   },
   "source": [
    "## Round funtion for wind direction"
   ]
  },
  {
   "cell_type": "code",
   "execution_count": 46,
   "metadata": {
    "id": "FU9pzVLgS_l0"
   },
   "outputs": [],
   "source": [
    "def round_direction(x):\n",
    "    list=[]\n",
    "    i=15\n",
    "    while i<=375:\n",
    "        list.append(i)\n",
    "        i+=30\n",
    "        \n",
    "    for i in list:\n",
    "        if x < i:\n",
    "            x=i-15\n",
    "            if x==360:\n",
    "                return 0\n",
    "            else:\n",
    "                return x"
   ]
  },
  {
   "cell_type": "code",
   "execution_count": 47,
   "metadata": {
    "colab": {
     "base_uri": "https://localhost:8080/",
     "height": 206
    },
    "id": "73UnUNwiVCJT",
    "outputId": "3023e544-9e78-4a84-f2e7-9337e9c3a35a"
   },
   "outputs": [
    {
     "data": {
      "text/html": [
       "<div>\n",
       "<style scoped>\n",
       "    .dataframe tbody tr th:only-of-type {\n",
       "        vertical-align: middle;\n",
       "    }\n",
       "\n",
       "    .dataframe tbody tr th {\n",
       "        vertical-align: top;\n",
       "    }\n",
       "\n",
       "    .dataframe thead th {\n",
       "        text-align: right;\n",
       "    }\n",
       "</style>\n",
       "<table border=\"1\" class=\"dataframe\">\n",
       "  <thead>\n",
       "    <tr style=\"text-align: right;\">\n",
       "      <th></th>\n",
       "      <th>Date/Time</th>\n",
       "      <th>ActivePower</th>\n",
       "      <th>WindSpeed</th>\n",
       "      <th>TheoreticalPowerCurve</th>\n",
       "      <th>WindDirection</th>\n",
       "      <th>year</th>\n",
       "      <th>month</th>\n",
       "      <th>day</th>\n",
       "      <th>Hour</th>\n",
       "      <th>minute</th>\n",
       "      <th>RoundDirection</th>\n",
       "    </tr>\n",
       "  </thead>\n",
       "  <tbody>\n",
       "    <tr>\n",
       "      <th>0</th>\n",
       "      <td>2018-01-01 00:00:00</td>\n",
       "      <td>380.047791</td>\n",
       "      <td>5.311336</td>\n",
       "      <td>416.328908</td>\n",
       "      <td>259.994904</td>\n",
       "      <td>2018</td>\n",
       "      <td>1</td>\n",
       "      <td>1</td>\n",
       "      <td>0</td>\n",
       "      <td>0</td>\n",
       "      <td>270</td>\n",
       "    </tr>\n",
       "    <tr>\n",
       "      <th>1</th>\n",
       "      <td>2018-01-01 00:10:00</td>\n",
       "      <td>453.769196</td>\n",
       "      <td>5.672167</td>\n",
       "      <td>519.917511</td>\n",
       "      <td>268.641113</td>\n",
       "      <td>2018</td>\n",
       "      <td>1</td>\n",
       "      <td>1</td>\n",
       "      <td>0</td>\n",
       "      <td>10</td>\n",
       "      <td>270</td>\n",
       "    </tr>\n",
       "    <tr>\n",
       "      <th>2</th>\n",
       "      <td>2018-01-01 00:20:00</td>\n",
       "      <td>306.376587</td>\n",
       "      <td>5.216037</td>\n",
       "      <td>390.900016</td>\n",
       "      <td>272.564789</td>\n",
       "      <td>2018</td>\n",
       "      <td>1</td>\n",
       "      <td>1</td>\n",
       "      <td>0</td>\n",
       "      <td>20</td>\n",
       "      <td>270</td>\n",
       "    </tr>\n",
       "    <tr>\n",
       "      <th>3</th>\n",
       "      <td>2018-01-01 00:30:00</td>\n",
       "      <td>419.645904</td>\n",
       "      <td>5.659674</td>\n",
       "      <td>516.127569</td>\n",
       "      <td>271.258087</td>\n",
       "      <td>2018</td>\n",
       "      <td>1</td>\n",
       "      <td>1</td>\n",
       "      <td>0</td>\n",
       "      <td>30</td>\n",
       "      <td>270</td>\n",
       "    </tr>\n",
       "    <tr>\n",
       "      <th>4</th>\n",
       "      <td>2018-01-01 00:40:00</td>\n",
       "      <td>380.650696</td>\n",
       "      <td>5.577941</td>\n",
       "      <td>491.702972</td>\n",
       "      <td>265.674286</td>\n",
       "      <td>2018</td>\n",
       "      <td>1</td>\n",
       "      <td>1</td>\n",
       "      <td>0</td>\n",
       "      <td>40</td>\n",
       "      <td>270</td>\n",
       "    </tr>\n",
       "  </tbody>\n",
       "</table>\n",
       "</div>"
      ],
      "text/plain": [
       "            Date/Time  ActivePower  WindSpeed  TheoreticalPowerCurve  \\\n",
       "0 2018-01-01 00:00:00   380.047791   5.311336             416.328908   \n",
       "1 2018-01-01 00:10:00   453.769196   5.672167             519.917511   \n",
       "2 2018-01-01 00:20:00   306.376587   5.216037             390.900016   \n",
       "3 2018-01-01 00:30:00   419.645904   5.659674             516.127569   \n",
       "4 2018-01-01 00:40:00   380.650696   5.577941             491.702972   \n",
       "\n",
       "   WindDirection  year  month  day  Hour  minute  RoundDirection  \n",
       "0     259.994904  2018      1    1     0       0             270  \n",
       "1     268.641113  2018      1    1     0      10             270  \n",
       "2     272.564789  2018      1    1     0      20             270  \n",
       "3     271.258087  2018      1    1     0      30             270  \n",
       "4     265.674286  2018      1    1     0      40             270  "
      ]
     },
     "execution_count": 47,
     "metadata": {},
     "output_type": "execute_result"
    }
   ],
   "source": [
    "data[\"RoundDirection\"]=data[\"WindDirection\"].apply(round_direction)\n",
    "data.head(5)"
   ]
  },
  {
   "cell_type": "markdown",
   "metadata": {
    "id": "QzcvOno-VKQi"
   },
   "source": [
    "## Assigning the Directions(\"N\",\"NNE\",\"NEE\",\"E\",\"SEE\",\"SSE\",\"S\",\"SSW\",\"SWW\",\"W\",\"NWW\",\"NNW\") with respect to Degrees"
   ]
  },
  {
   "cell_type": "code",
   "execution_count": 48,
   "metadata": {
    "colab": {
     "base_uri": "https://localhost:8080/",
     "height": 239
    },
    "id": "RVzlAZSmVEOj",
    "outputId": "91cc454a-0e59-462d-9fc6-96b58aa60c2c"
   },
   "outputs": [
    {
     "data": {
      "text/html": [
       "<div>\n",
       "<style scoped>\n",
       "    .dataframe tbody tr th:only-of-type {\n",
       "        vertical-align: middle;\n",
       "    }\n",
       "\n",
       "    .dataframe tbody tr th {\n",
       "        vertical-align: top;\n",
       "    }\n",
       "\n",
       "    .dataframe thead th {\n",
       "        text-align: right;\n",
       "    }\n",
       "</style>\n",
       "<table border=\"1\" class=\"dataframe\">\n",
       "  <thead>\n",
       "    <tr style=\"text-align: right;\">\n",
       "      <th></th>\n",
       "      <th>Date/Time</th>\n",
       "      <th>ActivePower</th>\n",
       "      <th>WindSpeed</th>\n",
       "      <th>TheoreticalPowerCurve</th>\n",
       "      <th>WindDirection</th>\n",
       "      <th>year</th>\n",
       "      <th>month</th>\n",
       "      <th>day</th>\n",
       "      <th>Hour</th>\n",
       "      <th>minute</th>\n",
       "      <th>RoundDirection</th>\n",
       "      <th>WindCDirection</th>\n",
       "    </tr>\n",
       "  </thead>\n",
       "  <tbody>\n",
       "    <tr>\n",
       "      <th>50527</th>\n",
       "      <td>2018-12-31 23:30:00</td>\n",
       "      <td>2201.106934</td>\n",
       "      <td>8.435358</td>\n",
       "      <td>1788.284755</td>\n",
       "      <td>84.742500</td>\n",
       "      <td>2018</td>\n",
       "      <td>12</td>\n",
       "      <td>31</td>\n",
       "      <td>23</td>\n",
       "      <td>30</td>\n",
       "      <td>90</td>\n",
       "      <td>N</td>\n",
       "    </tr>\n",
       "    <tr>\n",
       "      <th>50528</th>\n",
       "      <td>2018-12-31 23:40:00</td>\n",
       "      <td>2515.694092</td>\n",
       "      <td>9.421366</td>\n",
       "      <td>2418.382503</td>\n",
       "      <td>84.297913</td>\n",
       "      <td>2018</td>\n",
       "      <td>12</td>\n",
       "      <td>31</td>\n",
       "      <td>23</td>\n",
       "      <td>40</td>\n",
       "      <td>90</td>\n",
       "      <td>N</td>\n",
       "    </tr>\n",
       "    <tr>\n",
       "      <th>50529</th>\n",
       "      <td>2018-12-31 23:50:00</td>\n",
       "      <td>2820.466064</td>\n",
       "      <td>9.979332</td>\n",
       "      <td>2779.184096</td>\n",
       "      <td>82.274620</td>\n",
       "      <td>2018</td>\n",
       "      <td>12</td>\n",
       "      <td>31</td>\n",
       "      <td>23</td>\n",
       "      <td>50</td>\n",
       "      <td>90</td>\n",
       "      <td>N</td>\n",
       "    </tr>\n",
       "  </tbody>\n",
       "</table>\n",
       "</div>"
      ],
      "text/plain": [
       "                Date/Time  ActivePower  WindSpeed  TheoreticalPowerCurve  \\\n",
       "50527 2018-12-31 23:30:00  2201.106934   8.435358            1788.284755   \n",
       "50528 2018-12-31 23:40:00  2515.694092   9.421366            2418.382503   \n",
       "50529 2018-12-31 23:50:00  2820.466064   9.979332            2779.184096   \n",
       "\n",
       "       WindDirection  year  month  day  Hour  minute  RoundDirection  \\\n",
       "50527      84.742500  2018     12   31    23      30              90   \n",
       "50528      84.297913  2018     12   31    23      40              90   \n",
       "50529      82.274620  2018     12   31    23      50              90   \n",
       "\n",
       "      WindCDirection  \n",
       "50527              N  \n",
       "50528              N  \n",
       "50529              N  "
      ]
     },
     "execution_count": 48,
     "metadata": {},
     "output_type": "execute_result"
    }
   ],
   "source": [
    "direction_dictionary = {0:\"N\", 30:\"NNE\", 60:\"NEE\", 90:\"E\", 120:\"SEE\", 150:\"SSE\", 180:\"S\", 210:\"SSW\", 240:\"SWW\", 270:\"W\", 300:\"NWW\", 330:\"NNW\"}\n",
    "\n",
    "def direction_of_wind(x):\n",
    "  for x in direction_dictionary:\n",
    "    return direction_dictionary[x]\n",
    "\n",
    "data['WindCDirection'] = data['RoundDirection'].apply(direction_of_wind)\n",
    "data.tail(3)"
   ]
  },
  {
   "cell_type": "code",
   "execution_count": 49,
   "metadata": {
    "colab": {
     "base_uri": "https://localhost:8080/",
     "height": 1000
    },
    "id": "p98UnpQ_VR_D",
    "outputId": "9d397ec9-401a-4799-f757-a52ce27bdd5e"
   },
   "outputs": [
    {
     "data": {
      "image/png": "[encoded data removed]",
      "text/plain": [
       "<Figure size 720x576 with 2 Axes>"
      ]
     },
     "metadata": {
      "needs_background": "light"
     },
     "output_type": "display_data"
    },
    {
     "data": {
      "text/html": [
       "<div>\n",
       "<style scoped>\n",
       "    .dataframe tbody tr th:only-of-type {\n",
       "        vertical-align: middle;\n",
       "    }\n",
       "\n",
       "    .dataframe tbody tr th {\n",
       "        vertical-align: top;\n",
       "    }\n",
       "\n",
       "    .dataframe thead th {\n",
       "        text-align: right;\n",
       "    }\n",
       "</style>\n",
       "<table border=\"1\" class=\"dataframe\">\n",
       "  <thead>\n",
       "    <tr style=\"text-align: right;\">\n",
       "      <th></th>\n",
       "      <th>ActivePower</th>\n",
       "      <th>WindSpeed</th>\n",
       "      <th>TheoreticalPowerCurve</th>\n",
       "      <th>WindDirection</th>\n",
       "      <th>year</th>\n",
       "      <th>month</th>\n",
       "      <th>day</th>\n",
       "      <th>Hour</th>\n",
       "      <th>minute</th>\n",
       "      <th>RoundDirection</th>\n",
       "    </tr>\n",
       "  </thead>\n",
       "  <tbody>\n",
       "    <tr>\n",
       "      <th>ActivePower</th>\n",
       "      <td>1.000000</td>\n",
       "      <td>0.912774</td>\n",
       "      <td>0.949918</td>\n",
       "      <td>-0.062702</td>\n",
       "      <td>NaN</td>\n",
       "      <td>-0.013359</td>\n",
       "      <td>0.009779</td>\n",
       "      <td>0.036355</td>\n",
       "      <td>-0.000028</td>\n",
       "      <td>-0.028036</td>\n",
       "    </tr>\n",
       "    <tr>\n",
       "      <th>WindSpeed</th>\n",
       "      <td>0.912774</td>\n",
       "      <td>1.000000</td>\n",
       "      <td>0.944209</td>\n",
       "      <td>-0.077188</td>\n",
       "      <td>NaN</td>\n",
       "      <td>-0.074892</td>\n",
       "      <td>0.023784</td>\n",
       "      <td>0.024754</td>\n",
       "      <td>0.000166</td>\n",
       "      <td>-0.036713</td>\n",
       "    </tr>\n",
       "    <tr>\n",
       "      <th>TheoreticalPowerCurve</th>\n",
       "      <td>0.949918</td>\n",
       "      <td>0.944209</td>\n",
       "      <td>1.000000</td>\n",
       "      <td>-0.099076</td>\n",
       "      <td>NaN</td>\n",
       "      <td>-0.055629</td>\n",
       "      <td>0.040273</td>\n",
       "      <td>0.034636</td>\n",
       "      <td>-0.000020</td>\n",
       "      <td>-0.064206</td>\n",
       "    </tr>\n",
       "    <tr>\n",
       "      <th>WindDirection</th>\n",
       "      <td>-0.062702</td>\n",
       "      <td>-0.077188</td>\n",
       "      <td>-0.099076</td>\n",
       "      <td>1.000000</td>\n",
       "      <td>NaN</td>\n",
       "      <td>-0.022852</td>\n",
       "      <td>-0.069721</td>\n",
       "      <td>-0.015355</td>\n",
       "      <td>-0.001821</td>\n",
       "      <td>0.880726</td>\n",
       "    </tr>\n",
       "    <tr>\n",
       "      <th>year</th>\n",
       "      <td>NaN</td>\n",
       "      <td>NaN</td>\n",
       "      <td>NaN</td>\n",
       "      <td>NaN</td>\n",
       "      <td>NaN</td>\n",
       "      <td>NaN</td>\n",
       "      <td>NaN</td>\n",
       "      <td>NaN</td>\n",
       "      <td>NaN</td>\n",
       "      <td>NaN</td>\n",
       "    </tr>\n",
       "    <tr>\n",
       "      <th>month</th>\n",
       "      <td>-0.013359</td>\n",
       "      <td>-0.074892</td>\n",
       "      <td>-0.055629</td>\n",
       "      <td>-0.022852</td>\n",
       "      <td>NaN</td>\n",
       "      <td>1.000000</td>\n",
       "      <td>0.032000</td>\n",
       "      <td>-0.001024</td>\n",
       "      <td>-0.000163</td>\n",
       "      <td>-0.044356</td>\n",
       "    </tr>\n",
       "    <tr>\n",
       "      <th>day</th>\n",
       "      <td>0.009779</td>\n",
       "      <td>0.023784</td>\n",
       "      <td>0.040273</td>\n",
       "      <td>-0.069721</td>\n",
       "      <td>NaN</td>\n",
       "      <td>0.032000</td>\n",
       "      <td>1.000000</td>\n",
       "      <td>-0.000883</td>\n",
       "      <td>-0.000310</td>\n",
       "      <td>-0.078696</td>\n",
       "    </tr>\n",
       "    <tr>\n",
       "      <th>Hour</th>\n",
       "      <td>0.036355</td>\n",
       "      <td>0.024754</td>\n",
       "      <td>0.034636</td>\n",
       "      <td>-0.015355</td>\n",
       "      <td>NaN</td>\n",
       "      <td>-0.001024</td>\n",
       "      <td>-0.000883</td>\n",
       "      <td>1.000000</td>\n",
       "      <td>0.000062</td>\n",
       "      <td>-0.005810</td>\n",
       "    </tr>\n",
       "    <tr>\n",
       "      <th>minute</th>\n",
       "      <td>-0.000028</td>\n",
       "      <td>0.000166</td>\n",
       "      <td>-0.000020</td>\n",
       "      <td>-0.001821</td>\n",
       "      <td>NaN</td>\n",
       "      <td>-0.000163</td>\n",
       "      <td>-0.000310</td>\n",
       "      <td>0.000062</td>\n",
       "      <td>1.000000</td>\n",
       "      <td>-0.001051</td>\n",
       "    </tr>\n",
       "    <tr>\n",
       "      <th>RoundDirection</th>\n",
       "      <td>-0.028036</td>\n",
       "      <td>-0.036713</td>\n",
       "      <td>-0.064206</td>\n",
       "      <td>0.880726</td>\n",
       "      <td>NaN</td>\n",
       "      <td>-0.044356</td>\n",
       "      <td>-0.078696</td>\n",
       "      <td>-0.005810</td>\n",
       "      <td>-0.001051</td>\n",
       "      <td>1.000000</td>\n",
       "    </tr>\n",
       "  </tbody>\n",
       "</table>\n",
       "</div>"
      ],
      "text/plain": [
       "                       ActivePower  WindSpeed  TheoreticalPowerCurve  \\\n",
       "ActivePower               1.000000   0.912774               0.949918   \n",
       "WindSpeed                 0.912774   1.000000               0.944209   \n",
       "TheoreticalPowerCurve     0.949918   0.944209               1.000000   \n",
       "WindDirection            -0.062702  -0.077188              -0.099076   \n",
       "year                           NaN        NaN                    NaN   \n",
       "month                    -0.013359  -0.074892              -0.055629   \n",
       "day                       0.009779   0.023784               0.040273   \n",
       "Hour                      0.036355   0.024754               0.034636   \n",
       "minute                   -0.000028   0.000166              -0.000020   \n",
       "RoundDirection           -0.028036  -0.036713              -0.064206   \n",
       "\n",
       "                       WindDirection  year     month       day      Hour  \\\n",
       "ActivePower                -0.062702   NaN -0.013359  0.009779  0.036355   \n",
       "WindSpeed                  -0.077188   NaN -0.074892  0.023784  0.024754   \n",
       "TheoreticalPowerCurve      -0.099076   NaN -0.055629  0.040273  0.034636   \n",
       "WindDirection               1.000000   NaN -0.022852 -0.069721 -0.015355   \n",
       "year                             NaN   NaN       NaN       NaN       NaN   \n",
       "month                      -0.022852   NaN  1.000000  0.032000 -0.001024   \n",
       "day                        -0.069721   NaN  0.032000  1.000000 -0.000883   \n",
       "Hour                       -0.015355   NaN -0.001024 -0.000883  1.000000   \n",
       "minute                     -0.001821   NaN -0.000163 -0.000310  0.000062   \n",
       "RoundDirection              0.880726   NaN -0.044356 -0.078696 -0.005810   \n",
       "\n",
       "                         minute  RoundDirection  \n",
       "ActivePower           -0.000028       -0.028036  \n",
       "WindSpeed              0.000166       -0.036713  \n",
       "TheoreticalPowerCurve -0.000020       -0.064206  \n",
       "WindDirection         -0.001821        0.880726  \n",
       "year                        NaN             NaN  \n",
       "month                 -0.000163       -0.044356  \n",
       "day                   -0.000310       -0.078696  \n",
       "Hour                   0.000062       -0.005810  \n",
       "minute                 1.000000       -0.001051  \n",
       "RoundDirection        -0.001051        1.000000  "
      ]
     },
     "execution_count": 49,
     "metadata": {},
     "output_type": "execute_result"
    }
   ],
   "source": [
    "correlation = data.corr()\n",
    "plt.figure(figsize=(10, 8))\n",
    "\n",
    "ax = sns.heatmap(correlation, vmin = -1, vmax = 1, annot = True)\n",
    "bottom, top = ax.get_ylim()\n",
    "ax.set_ylim(bottom + 0.5, top - 0.5)\n",
    "plt.show()\n",
    "correlation"
   ]
  },
  {
   "cell_type": "markdown",
   "metadata": {
    "id": "XH6mDuAPYLiV"
   },
   "source": [
    "## ->WindSpeed, ActivePower, WindDirection are the Highly Correlated Features"
   ]
  },
  {
   "cell_type": "markdown",
   "metadata": {
    "id": "fEwbMhbgYfLt"
   },
   "source": [
    "## Droping all irrelavent/unwanted features"
   ]
  },
  {
   "cell_type": "code",
   "execution_count": 50,
   "metadata": {
    "id": "VO8DwbIAXL8B"
   },
   "outputs": [],
   "source": [
    "columns = ['year', 'month', 'day', 'Hour', 'minute','RoundDirection']\n",
    "data = data.drop(columns, axis=1)"
   ]
  },
  {
   "cell_type": "code",
   "execution_count": 51,
   "metadata": {
    "colab": {
     "base_uri": "https://localhost:8080/",
     "height": 112
    },
    "id": "pP8BofOZZXOY",
    "outputId": "821fed64-2c2b-48ef-9041-8c0268cce419"
   },
   "outputs": [
    {
     "data": {
      "text/html": [
       "<div>\n",
       "<style scoped>\n",
       "    .dataframe tbody tr th:only-of-type {\n",
       "        vertical-align: middle;\n",
       "    }\n",
       "\n",
       "    .dataframe tbody tr th {\n",
       "        vertical-align: top;\n",
       "    }\n",
       "\n",
       "    .dataframe thead th {\n",
       "        text-align: right;\n",
       "    }\n",
       "</style>\n",
       "<table border=\"1\" class=\"dataframe\">\n",
       "  <thead>\n",
       "    <tr style=\"text-align: right;\">\n",
       "      <th></th>\n",
       "      <th>Date/Time</th>\n",
       "      <th>ActivePower</th>\n",
       "      <th>WindSpeed</th>\n",
       "      <th>TheoreticalPowerCurve</th>\n",
       "      <th>WindDirection</th>\n",
       "      <th>WindCDirection</th>\n",
       "    </tr>\n",
       "  </thead>\n",
       "  <tbody>\n",
       "    <tr>\n",
       "      <th>0</th>\n",
       "      <td>2018-01-01 00:00:00</td>\n",
       "      <td>380.047791</td>\n",
       "      <td>5.311336</td>\n",
       "      <td>416.328908</td>\n",
       "      <td>259.994904</td>\n",
       "      <td>N</td>\n",
       "    </tr>\n",
       "    <tr>\n",
       "      <th>1</th>\n",
       "      <td>2018-01-01 00:10:00</td>\n",
       "      <td>453.769196</td>\n",
       "      <td>5.672167</td>\n",
       "      <td>519.917511</td>\n",
       "      <td>268.641113</td>\n",
       "      <td>N</td>\n",
       "    </tr>\n",
       "  </tbody>\n",
       "</table>\n",
       "</div>"
      ],
      "text/plain": [
       "            Date/Time  ActivePower  WindSpeed  TheoreticalPowerCurve  \\\n",
       "0 2018-01-01 00:00:00   380.047791   5.311336             416.328908   \n",
       "1 2018-01-01 00:10:00   453.769196   5.672167             519.917511   \n",
       "\n",
       "   WindDirection WindCDirection  \n",
       "0     259.994904              N  \n",
       "1     268.641113              N  "
      ]
     },
     "execution_count": 51,
     "metadata": {},
     "output_type": "execute_result"
    }
   ],
   "source": [
    "data.head(2)"
   ]
  },
  {
   "cell_type": "markdown",
   "metadata": {
    "id": "Xzj4Bm7WZqIf"
   },
   "source": [
    "## Splitting Data into Independent and Dependent Variables "
   ]
  },
  {
   "cell_type": "code",
   "execution_count": 52,
   "metadata": {
    "colab": {
     "base_uri": "https://localhost:8080/",
     "height": 143
    },
    "id": "Opshu07QZhsx",
    "outputId": "dcc490d6-40b4-413a-8418-7b93c236b1ab"
   },
   "outputs": [
    {
     "data": {
      "text/html": [
       "<div>\n",
       "<style scoped>\n",
       "    .dataframe tbody tr th:only-of-type {\n",
       "        vertical-align: middle;\n",
       "    }\n",
       "\n",
       "    .dataframe tbody tr th {\n",
       "        vertical-align: top;\n",
       "    }\n",
       "\n",
       "    .dataframe thead th {\n",
       "        text-align: right;\n",
       "    }\n",
       "</style>\n",
       "<table border=\"1\" class=\"dataframe\">\n",
       "  <thead>\n",
       "    <tr style=\"text-align: right;\">\n",
       "      <th></th>\n",
       "      <th>WindSpeed</th>\n",
       "      <th>WindDirection</th>\n",
       "    </tr>\n",
       "  </thead>\n",
       "  <tbody>\n",
       "    <tr>\n",
       "      <th>0</th>\n",
       "      <td>5.311336</td>\n",
       "      <td>259.994904</td>\n",
       "    </tr>\n",
       "    <tr>\n",
       "      <th>1</th>\n",
       "      <td>5.672167</td>\n",
       "      <td>268.641113</td>\n",
       "    </tr>\n",
       "    <tr>\n",
       "      <th>2</th>\n",
       "      <td>5.216037</td>\n",
       "      <td>272.564789</td>\n",
       "    </tr>\n",
       "  </tbody>\n",
       "</table>\n",
       "</div>"
      ],
      "text/plain": [
       "   WindSpeed  WindDirection\n",
       "0   5.311336     259.994904\n",
       "1   5.672167     268.641113\n",
       "2   5.216037     272.564789"
      ]
     },
     "execution_count": 52,
     "metadata": {},
     "output_type": "execute_result"
    }
   ],
   "source": [
    "X=data[['WindSpeed','WindDirection']] #independent features\n",
    "X.head(3)"
   ]
  },
  {
   "cell_type": "code",
   "execution_count": 53,
   "metadata": {
    "colab": {
     "base_uri": "https://localhost:8080/"
    },
    "id": "I3RrKPp5aHIC",
    "outputId": "0ad2e042-e341-4453-82f7-5c454ea80c5e"
   },
   "outputs": [
    {
     "data": {
      "text/plain": [
       "0    380.047791\n",
       "1    453.769196\n",
       "2    306.376587\n",
       "Name: ActivePower, dtype: float64"
      ]
     },
     "execution_count": 53,
     "metadata": {},
     "output_type": "execute_result"
    }
   ],
   "source": [
    "Y = data['ActivePower'] #dependent features\n",
    "Y.head(3)"
   ]
  },
  {
   "cell_type": "code",
   "execution_count": 54,
   "metadata": {
    "id": "BprgyzUwaLMS"
   },
   "outputs": [],
   "source": [
    "X.to_csv('Independent_Var.csv')"
   ]
  },
  {
   "cell_type": "code",
   "execution_count": 55,
   "metadata": {
    "id": "pHz6k01jff9y"
   },
   "outputs": [],
   "source": [
    "Y.to_csv('Dependent_Var.csv')"
   ]
  },
  {
   "cell_type": "markdown",
   "metadata": {
    "id": "Uua86mb7aFiw"
   },
   "source": [
    "### splitting in train and test data"
   ]
  },
  {
   "cell_type": "code",
   "execution_count": 56,
   "metadata": {
    "id": "JNHRvWJkaKWm"
   },
   "outputs": [],
   "source": [
    "x_train,x_test,y_train,y_test=train_test_split(X,Y,test_size=0.2) #80% training and 20% Testing"
   ]
  },
  {
   "cell_type": "markdown",
   "metadata": {
    "id": "K9fo2SukWUpS"
   },
   "source": [
    "## Choose The Appropriate Model"
   ]
  },
  {
   "cell_type": "code",
   "execution_count": 57,
   "metadata": {
    "id": "P1GvmgXifoEh"
   },
   "outputs": [],
   "source": [
    "from sklearn.ensemble import RandomForestRegressor # importing the regressor model\n",
    "Model=RandomForestRegressor(n_estimators=750, max_depth=4, max_leaf_nodes=500, random_state=1)"
   ]
  },
  {
   "cell_type": "markdown",
   "metadata": {
    "id": "BvMJJYuaaZkv"
   },
   "source": [
    "### fitting the data with the Regressor Model"
   ]
  },
  {
   "cell_type": "code",
   "execution_count": 58,
   "metadata": {
    "colab": {
     "base_uri": "https://localhost:8080/"
    },
    "id": "ygjKyQkjZGd5",
    "outputId": "e5d764c7-86b1-47a4-da5c-ef34e2615310"
   },
   "outputs": [
    {
     "data": {
      "text/plain": [
       "RandomForestRegressor(max_depth=4, max_leaf_nodes=500, n_estimators=750,\n",
       "                      random_state=1)"
      ]
     },
     "execution_count": 58,
     "metadata": {},
     "output_type": "execute_result"
    }
   ],
   "source": [
    "Model.fit(x_train,y_train) "
   ]
  },
  {
   "cell_type": "markdown",
   "metadata": {
    "id": "zBJ1WvHmXQnb"
   },
   "source": [
    "## Check The Metrics Of The Model"
   ]
  },
  {
   "cell_type": "code",
   "execution_count": 59,
   "metadata": {
    "colab": {
     "base_uri": "https://localhost:8080/"
    },
    "id": "euyRN6RQXSOD",
    "outputId": "a23d713e-43b1-42de-d879-fe4ebd8f20d0"
   },
   "outputs": [
    {
     "name": "stdout",
     "output_type": "stream",
     "text": [
      "[ 159.69193134 1344.48193917 1813.41862227 ...   11.14964803 1813.41862227\n",
      "  540.28710186]\n"
     ]
    }
   ],
   "source": [
    "#Predicting for Test Data\n",
    "Predicted=Model.predict(x_test)\n",
    "print(Predicted)"
   ]
  },
  {
   "cell_type": "code",
   "execution_count": 60,
   "metadata": {
    "colab": {
     "base_uri": "https://localhost:8080/"
    },
    "id": "LxeoOFZqbldh",
    "outputId": "db0dd4b0-6e19-430a-b0cf-153190f2d926"
   },
   "outputs": [
    {
     "name": "stdout",
     "output_type": "stream",
     "text": [
      "163.8322133153247\n",
      "0.9158612410232716\n"
     ]
    }
   ],
   "source": [
    "from sklearn.metrics import mean_absolute_error , r2_score \n",
    "#Evaluating the score of our model\n",
    "print(mean_absolute_error(y_test,Predicted))\n",
    "print(r2_score(y_test,Predicted))"
   ]
  },
  {
   "cell_type": "markdown",
   "metadata": {
    "id": "yY5jRjluXdF7"
   },
   "source": [
    "## Save The Model"
   ]
  },
  {
   "cell_type": "code",
   "execution_count": 61,
   "metadata": {
    "colab": {
     "base_uri": "https://localhost:8080/"
    },
    "id": "v1aVCH3mXd_7",
    "outputId": "b55527d2-cb5f-46b9-c31e-b3c696562ea6"
   },
   "outputs": [
    {
     "data": {
      "text/plain": [
       "['power_prediction.sav']"
      ]
     },
     "execution_count": 61,
     "metadata": {},
     "output_type": "execute_result"
    }
   ],
   "source": [
    "#Saving the model for future reference\n",
    "joblib.dump(Model,\"power_prediction.sav\")"
   ]
  },
  {
   "cell_type": "code",
   "execution_count": 62,
   "metadata": {
    "id": "JR1GeuRsahCu"
   },
   "outputs": [
    {
     "name": "stdout",
     "output_type": "stream",
     "text": [
      "Requirement already satisfied: ibm_watson_machine_learning in /opt/conda/envs/Python-3.9/lib/python3.9/site-packages (1.0.257)\n",
      "Requirement already satisfied: packaging in /opt/conda/envs/Python-3.9/lib/python3.9/site-packages (from ibm_watson_machine_learning) (21.3)\n",
      "Requirement already satisfied: tabulate in /opt/conda/envs/Python-3.9/lib/python3.9/site-packages (from ibm_watson_machine_learning) (0.8.9)\n",
      "Requirement already satisfied: urllib3 in /opt/conda/envs/Python-3.9/lib/python3.9/site-packages (from ibm_watson_machine_learning) (1.26.7)\n",
      "Requirement already satisfied: certifi in /opt/conda/envs/Python-3.9/lib/python3.9/site-packages (from ibm_watson_machine_learning) (2022.9.24)\n",
      "Requirement already satisfied: pandas<1.5.0,>=0.24.2 in /opt/conda/envs/Python-3.9/lib/python3.9/site-packages (from ibm_watson_machine_learning) (1.3.4)\n",
      "Requirement already satisfied: ibm-cos-sdk==2.11.* in /opt/conda/envs/Python-3.9/lib/python3.9/site-packages (from ibm_watson_machine_learning) (2.11.0)\n",
      "Requirement already satisfied: importlib-metadata in /opt/conda/envs/Python-3.9/lib/python3.9/site-packages (from ibm_watson_machine_learning) (4.8.2)\n",
      "Requirement already satisfied: requests in /opt/conda/envs/Python-3.9/lib/python3.9/site-packages (from ibm_watson_machine_learning) (2.26.0)\n",
      "Requirement already satisfied: lomond in /opt/conda/envs/Python-3.9/lib/python3.9/site-packages (from ibm_watson_machine_learning) (0.3.3)\n",
      "Requirement already satisfied: ibm-cos-sdk-core==2.11.0 in /opt/conda/envs/Python-3.9/lib/python3.9/site-packages (from ibm-cos-sdk==2.11.*->ibm_watson_machine_learning) (2.11.0)\n",
      "Requirement already satisfied: ibm-cos-sdk-s3transfer==2.11.0 in /opt/conda/envs/Python-3.9/lib/python3.9/site-packages (from ibm-cos-sdk==2.11.*->ibm_watson_machine_learning) (2.11.0)\n",
      "Requirement already satisfied: jmespath<1.0.0,>=0.7.1 in /opt/conda/envs/Python-3.9/lib/python3.9/site-packages (from ibm-cos-sdk==2.11.*->ibm_watson_machine_learning) (0.10.0)\n",
      "Requirement already satisfied: python-dateutil<3.0.0,>=2.1 in /opt/conda/envs/Python-3.9/lib/python3.9/site-packages (from ibm-cos-sdk-core==2.11.0->ibm-cos-sdk==2.11.*->ibm_watson_machine_learning) (2.8.2)\n",
      "Requirement already satisfied: pytz>=2017.3 in /opt/conda/envs/Python-3.9/lib/python3.9/site-packages (from pandas<1.5.0,>=0.24.2->ibm_watson_machine_learning) (2021.3)\n",
      "Requirement already satisfied: numpy>=1.17.3 in /opt/conda/envs/Python-3.9/lib/python3.9/site-packages (from pandas<1.5.0,>=0.24.2->ibm_watson_machine_learning) (1.20.3)\n",
      "Requirement already satisfied: six>=1.5 in /opt/conda/envs/Python-3.9/lib/python3.9/site-packages (from python-dateutil<3.0.0,>=2.1->ibm-cos-sdk-core==2.11.0->ibm-cos-sdk==2.11.*->ibm_watson_machine_learning) (1.15.0)\n",
      "Requirement already satisfied: charset-normalizer~=2.0.0 in /opt/conda/envs/Python-3.9/lib/python3.9/site-packages (from requests->ibm_watson_machine_learning) (2.0.4)\n",
      "Requirement already satisfied: idna<4,>=2.5 in /opt/conda/envs/Python-3.9/lib/python3.9/site-packages (from requests->ibm_watson_machine_learning) (3.3)\n",
      "Requirement already satisfied: zipp>=0.5 in /opt/conda/envs/Python-3.9/lib/python3.9/site-packages (from importlib-metadata->ibm_watson_machine_learning) (3.6.0)\n",
      "Requirement already satisfied: pyparsing!=3.0.5,>=2.0.2 in /opt/conda/envs/Python-3.9/lib/python3.9/site-packages (from packaging->ibm_watson_machine_learning) (3.0.4)\n"
     ]
    }
   ],
   "source": [
    "!pip install ibm_watson_machine_learning"
   ]
  },
  {
   "cell_type": "code",
   "execution_count": 63,
   "metadata": {},
   "outputs": [],
   "source": [
    "from ibm_watson_machine_learning import APIClient\n",
    "wml_credentials = {\n",
    "    \"url\":\"https://us-south.ml.cloud.ibm.com\",\n",
    "    \"apikey\":\"Ss8jE5G536xMWJlXZo8dVCP8g2qL1DmmMi--dcSgDmR4\"\n",
    "    \n",
    "}\n",
    "client = APIClient(wml_credentials)"
   ]
  },
  {
   "cell_type": "code",
   "execution_count": 70,
   "metadata": {},
   "outputs": [
    {
     "name": "stdout",
     "output_type": "stream",
     "text": [
      "Note: 'limit' is not provided. Only first 50 records will be displayed if the number of records exceed 50\n",
      "------------------------------------  ------  ------------------------\n",
      "ID                                    NAME    CREATED\n",
      "3f7b4164-bf09-4db4-ae6d-0d42938669ee  models  2022-11-18T15:12:40.336Z\n",
      "------------------------------------  ------  ------------------------\n"
     ]
    }
   ],
   "source": [
    "wml_client = APIClient(wml_credentials)\n",
    "wml_client.spaces.list()"
   ]
  },
  {
   "cell_type": "code",
   "execution_count": 71,
   "metadata": {},
   "outputs": [],
   "source": [
    "space_id = \"3f7b4164-bf09-4db4-ae6d-0d42938669ee\""
   ]
  },
  {
   "cell_type": "code",
   "execution_count": 72,
   "metadata": {},
   "outputs": [
    {
     "data": {
      "text/plain": [
       "'SUCCESS'"
      ]
     },
     "execution_count": 72,
     "metadata": {},
     "output_type": "execute_result"
    }
   ],
   "source": [
    "wml_client.set.default_space(space_id)"
   ]
  },
  {
   "cell_type": "code",
   "execution_count": 73,
   "metadata": {},
   "outputs": [
    {
     "name": "stdout",
     "output_type": "stream",
     "text": [
      "-----------------------------  ------------------------------------  ----\n",
      "NAME                           ASSET_ID                              TYPE\n",
      "default_py3.6                  0062b8c9-8b7d-44a0-a9b9-46c416adcbd9  base\n",
      "kernel-spark3.2-scala2.12      020d69ce-7ac1-5e68-ac1a-31189867356a  base\n",
      "pytorch-onnx_1.3-py3.7-edt     069ea134-3346-5748-b513-49120e15d288  base\n",
      "scikit-learn_0.20-py3.6        09c5a1d0-9c1e-4473-a344-eb7b665ff687  base\n",
      "spark-mllib_3.0-scala_2.12     09f4cff0-90a7-5899-b9ed-1ef348aebdee  base\n",
      "pytorch-onnx_rt22.1-py3.9      0b848dd4-e681-5599-be41-b5f6fccc6471  base\n",
      "ai-function_0.1-py3.6          0cdb0f1e-5376-4f4d-92dd-da3b69aa9bda  base\n",
      "shiny-r3.6                     0e6e79df-875e-4f24-8ae9-62dcc2148306  base\n",
      "tensorflow_2.4-py3.7-horovod   1092590a-307d-563d-9b62-4eb7d64b3f22  base\n",
      "pytorch_1.1-py3.6              10ac12d6-6b30-4ccd-8392-3e922c096a92  base\n",
      "tensorflow_1.15-py3.6-ddl      111e41b3-de2d-5422-a4d6-bf776828c4b7  base\n",
      "autoai-kb_rt22.2-py3.10        125b6d9a-5b1f-5e8d-972a-b251688ccf40  base\n",
      "runtime-22.1-py3.9             12b83a17-24d8-5082-900f-0ab31fbfd3cb  base\n",
      "scikit-learn_0.22-py3.6        154010fa-5b3b-4ac1-82af-4d5ee5abbc85  base\n",
      "default_r3.6                   1b70aec3-ab34-4b87-8aa0-a4a3c8296a36  base\n",
      "pytorch-onnx_1.3-py3.6         1bc6029a-cc97-56da-b8e0-39c3880dbbe7  base\n",
      "kernel-spark3.3-r3.6           1c9e5454-f216-59dd-a20e-474a5cdf5988  base\n",
      "pytorch-onnx_rt22.1-py3.9-edt  1d362186-7ad5-5b59-8b6c-9d0880bde37f  base\n",
      "tensorflow_2.1-py3.6           1eb25b84-d6ed-5dde-b6a5-3fbdf1665666  base\n",
      "spark-mllib_3.2                20047f72-0a98-58c7-9ff5-a77b012eb8f5  base\n",
      "tensorflow_2.4-py3.8-horovod   217c16f6-178f-56bf-824a-b19f20564c49  base\n",
      "runtime-22.1-py3.9-cuda        26215f05-08c3-5a41-a1b0-da66306ce658  base\n",
      "do_py3.8                       295addb5-9ef9-547e-9bf4-92ae3563e720  base\n",
      "autoai-ts_3.8-py3.8            2aa0c932-798f-5ae9-abd6-15e0c2402fb5  base\n",
      "tensorflow_1.15-py3.6          2b73a275-7cbf-420b-a912-eae7f436e0bc  base\n",
      "kernel-spark3.3-py3.9          2b7961e2-e3b1-5a8c-a491-482c8368839a  base\n",
      "pytorch_1.2-py3.6              2c8ef57d-2687-4b7d-acce-01f94976dac1  base\n",
      "spark-mllib_2.3                2e51f700-bca0-4b0d-88dc-5c6791338875  base\n",
      "pytorch-onnx_1.1-py3.6-edt     32983cea-3f32-4400-8965-dde874a8d67e  base\n",
      "spark-mllib_3.0-py37           36507ebe-8770-55ba-ab2a-eafe787600e9  base\n",
      "spark-mllib_2.4                390d21f8-e58b-4fac-9c55-d7ceda621326  base\n",
      "autoai-ts_rt22.2-py3.10        396b2e83-0953-5b86-9a55-7ce1628a406f  base\n",
      "xgboost_0.82-py3.6             39e31acd-5f30-41dc-ae44-60233c80306e  base\n",
      "pytorch-onnx_1.2-py3.6-edt     40589d0e-7019-4e28-8daa-fb03b6f4fe12  base\n",
      "pytorch-onnx_rt22.2-py3.10     40e73f55-783a-5535-b3fa-0c8b94291431  base\n",
      "default_r36py38                41c247d3-45f8-5a71-b065-8580229facf0  base\n",
      "autoai-ts_rt22.1-py3.9         4269d26e-07ba-5d40-8f66-2d495b0c71f7  base\n",
      "autoai-obm_3.0                 42b92e18-d9ab-567f-988a-4240ba1ed5f7  base\n",
      "pmml-3.0_4.3                   493bcb95-16f1-5bc5-bee8-81b8af80e9c7  base\n",
      "spark-mllib_2.4-r_3.6          49403dff-92e9-4c87-a3d7-a42d0021c095  base\n",
      "xgboost_0.90-py3.6             4ff8d6c2-1343-4c18-85e1-689c965304d3  base\n",
      "pytorch-onnx_1.1-py3.6         50f95b2a-bc16-43bb-bc94-b0bed208c60b  base\n",
      "autoai-ts_3.9-py3.8            52c57136-80fa-572e-8728-a5e7cbb42cde  base\n",
      "spark-mllib_2.4-scala_2.11     55a70f99-7320-4be5-9fb9-9edb5a443af5  base\n",
      "spark-mllib_3.0                5c1b0ca2-4977-5c2e-9439-ffd44ea8ffe9  base\n",
      "autoai-obm_2.0                 5c2e37fa-80b8-5e77-840f-d912469614ee  base\n",
      "spss-modeler_18.1              5c3cad7e-507f-4b2a-a9a3-ab53a21dee8b  base\n",
      "cuda-py3.8                     5d3232bf-c86b-5df4-a2cd-7bb870a1cd4e  base\n",
      "runtime-22.2-py3.10-xc         5e8cddff-db4a-5a6a-b8aa-2d4af9864dab  base\n",
      "autoai-kb_3.1-py3.7            632d4b22-10aa-5180-88f0-f52dfb6444d7  base\n",
      "-----------------------------  ------------------------------------  ----\n",
      "Note: Only first 50 records were displayed. To display more use 'limit' parameter.\n"
     ]
    }
   ],
   "source": [
    "wml_client.software_specifications.list()"
   ]
  },
  {
   "cell_type": "code",
   "execution_count": 74,
   "metadata": {},
   "outputs": [],
   "source": [
    "MODEL_NAME = 'Predicting the energy output of wind turbine based on weather condition'\n",
    "DEPLOYMENT_NAME = 'deploy'\n",
    "POWER_MODEL = Model"
   ]
  },
  {
   "cell_type": "code",
   "execution_count": 75,
   "metadata": {},
   "outputs": [],
   "source": [
    "software_spec_uid = wml_client.software_specifications.get_id_by_name('runtime-22.1-py3.9')"
   ]
  },
  {
   "cell_type": "code",
   "execution_count": 76,
   "metadata": {},
   "outputs": [],
   "source": [
    "# Setup model meta\n",
    "model_props = {\n",
    "    wml_client.repository.ModelMetaNames.NAME: MODEL_NAME, \n",
    "    wml_client.repository.ModelMetaNames.TYPE: 'scikit-learn_1.0', \n",
    "    wml_client.repository.ModelMetaNames.SOFTWARE_SPEC_UID: software_spec_uid \n",
    "}"
   ]
  },
  {
   "cell_type": "code",
   "execution_count": 77,
   "metadata": {},
   "outputs": [],
   "source": [
    "#Saving the Model\n",
    "Model_details = wml_client.repository.store_model(\n",
    "    model=POWER_MODEL, \n",
    "    meta_props=model_props, \n",
    "    training_data=x_train, \n",
    "    training_target=y_train\n",
    ")"
   ]
  },
  {
   "cell_type": "code",
   "execution_count": 78,
   "metadata": {},
   "outputs": [
    {
     "data": {
      "text/plain": [
       "{'entity': {'hybrid_pipeline_software_specs': [],\n",
       "  'label_column': 'ActivePower',\n",
       "  'schemas': {'input': [{'fields': [{'name': 'WindSpeed', 'type': 'float64'},\n",
       "      {'name': 'WindDirection', 'type': 'float64'}],\n",
       "     'id': '1',\n",
       "     'type': 'struct'}],\n",
       "   'output': []},\n",
       "  'software_spec': {'id': '12b83a17-24d8-5082-900f-0ab31fbfd3cb',\n",
       "   'name': 'runtime-22.1-py3.9'},\n",
       "  'type': 'scikit-learn_1.0'},\n",
       " 'metadata': {'created_at': '2022-11-18T15:14:31.794Z',\n",
       "  'id': 'b13e4c6b-a300-4cfb-862a-591495e79b1f',\n",
       "  'modified_at': '2022-11-18T15:14:35.570Z',\n",
       "  'name': 'Predicting the energy output of wind turbine based on weather condition',\n",
       "  'owner': 'IBMid-66200434R4',\n",
       "  'resource_key': '6bb7dc8f-f76d-47f4-8f2f-9f9bf5ff46a5',\n",
       "  'space_id': '3f7b4164-bf09-4db4-ae6d-0d42938669ee'},\n",
       " 'system': {'warnings': []}}"
      ]
     },
     "execution_count": 78,
     "metadata": {},
     "output_type": "execute_result"
    }
   ],
   "source": [
    "Model_details"
   ]
  },
  {
   "cell_type": "code",
   "execution_count": null,
   "metadata": {},
   "outputs": [],
   "source": []
  }
 ],
 "metadata": {
  "colab": {
   "provenance": []
  },
  "kernelspec": {
   "display_name": "Python 3 (ipykernel)",
   "language": "python",
   "name": "python3"
  },
  "language_info": {
   "codemirror_mode": {
    "name": "ipython",
    "version": 3
   },
   "file_extension": ".py",
   "mimetype": "text/x-python",
   "name": "python",
   "nbconvert_exporter": "python",
   "pygments_lexer": "ipython3",
   "version": "3.9.15"
  }
 },
 "nbformat": 4,
 "nbformat_minor": 1
}
