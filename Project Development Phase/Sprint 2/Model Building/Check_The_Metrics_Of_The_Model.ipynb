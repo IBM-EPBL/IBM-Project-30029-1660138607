{
  "nbformat": 4,
  "nbformat_minor": 0,
  "metadata": {
    "colab": {
      "provenance": []
    },
    "kernelspec": {
      "name": "python3",
      "display_name": "Python 3"
    },
    "language_info": {
      "name": "python"
    }
  },
  "cells": [
    {
      "cell_type": "markdown",
      "source": [
        "## Check The Metrics Of The Model"
      ],
      "metadata": {
        "id": "zBJ1WvHmXQnb"
      }
    },
    {
      "cell_type": "code",
      "source": [
        "#Predicting for Test Data\n",
        "Predicted=Model.predict(x_test)\n",
        "print(Predicted)"
      ],
      "metadata": {
        "colab": {
          "base_uri": "https://localhost:8080/"
        },
        "id": "euyRN6RQXSOD",
        "outputId": "41c34483-31d1-45fc-b0e6-0b066fba8cc2"
      },
      "execution_count": null,
      "outputs": [
        {
          "output_type": "stream",
          "name": "stdout",
          "text": [
            "[ 343.49252796 3074.81973345 3332.47955455 ...  154.38082035 1006.29606264\n",
            "  154.58712914]\n"
          ]
        }
      ]
    },
    {
      "cell_type": "code",
      "source": [
        "from sklearn.metrics import mean_absolute_error , r2_score \n",
        "#Evaluating the score of our model\n",
        "print(mean_absolute_error(y_test,Predicted))\n",
        "print(r2_score(y_test,Predicted))"
      ],
      "metadata": {
        "colab": {
          "base_uri": "https://localhost:8080/"
        },
        "id": "LxeoOFZqbldh",
        "outputId": "f05f061c-2899-4b4b-fb5c-c6b6340bdaf8"
      },
      "execution_count": null,
      "outputs": [
        {
          "output_type": "stream",
          "name": "stdout",
          "text": [
            "164.07702913301617\n",
            "0.9149665596765538\n"
          ]
        }
      ]
    }
  ]
}