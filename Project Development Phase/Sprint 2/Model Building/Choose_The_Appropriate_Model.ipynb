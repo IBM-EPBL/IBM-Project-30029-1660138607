{
  "nbformat": 4,
  "nbformat_minor": 0,
  "metadata": {
    "colab": {
      "provenance": []
    },
    "kernelspec": {
      "name": "python3",
      "display_name": "Python 3"
    },
    "language_info": {
      "name": "python"
    }
  },
  "cells": [
    {
      "cell_type": "markdown",
      "source": [
        "### splitting in train and test data"
      ],
      "metadata": {
        "id": "Uua86mb7aFiw"
      }
    },
    {
      "cell_type": "code",
      "source": [
        "x_train,x_test,y_train,y_test=train_test_split(X,Y,test_size=0.2) #80% training and 20% Testing"
      ],
      "metadata": {
        "id": "JNHRvWJkaKWm"
      },
      "execution_count": null,
      "outputs": []
    },
    {
      "cell_type": "markdown",
      "source": [
        "## Choose The Appropriate Model"
      ],
      "metadata": {
        "id": "K9fo2SukWUpS"
      }
    },
    {
      "cell_type": "code",
      "source": [
        "from sklearn.ensemble import RandomForestRegressor # importing the regressor model\n",
        "Model=RandomForestRegressor(n_estimators=750, max_depth=4, max_leaf_nodes=500, random_state=1)"
      ],
      "metadata": {
        "id": "P1GvmgXifoEh"
      },
      "execution_count": null,
      "outputs": []
    },
    {
      "cell_type": "markdown",
      "source": [
        "### fitting the data with the Regressor Model"
      ],
      "metadata": {
        "id": "BvMJJYuaaZkv"
      }
    },
    {
      "cell_type": "code",
      "source": [
        "Model.fit(x_train,y_train) "
      ],
      "metadata": {
        "colab": {
          "base_uri": "https://localhost:8080/"
        },
        "id": "ygjKyQkjZGd5",
        "outputId": "66f64a90-8f32-4e78-bce6-27c04fccc24f"
      },
      "execution_count": null,
      "outputs": [
        {
          "output_type": "execute_result",
          "data": {
            "text/plain": [
              "RandomForestRegressor(max_depth=4, max_leaf_nodes=500, n_estimators=750,\n",
              "                      random_state=1)"
            ]
          },
          "metadata": {},
          "execution_count": 32
        }
      ]
    }
  ]
}