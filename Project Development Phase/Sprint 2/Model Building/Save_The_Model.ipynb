{
  "nbformat": 4,
  "nbformat_minor": 0,
  "metadata": {
    "colab": {
      "provenance": []
    },
    "kernelspec": {
      "name": "python3",
      "display_name": "Python 3"
    },
    "language_info": {
      "name": "python"
    }
  },
  "cells": [
    {
      "cell_type": "markdown",
      "source": [
        "## Save The Model"
      ],
      "metadata": {
        "id": "yY5jRjluXdF7"
      }
    },
    {
      "cell_type": "code",
      "source": [
        "#Saving the model for future reference\n",
        "joblib.dump(Model,\"Trained_Model.pkl\")"
      ],
      "metadata": {
        "colab": {
          "base_uri": "https://localhost:8080/"
        },
        "id": "v1aVCH3mXd_7",
        "outputId": "1d1de288-754e-4119-f94d-839e0c9667c6"
      },
      "execution_count": null,
      "outputs": [
        {
          "output_type": "execute_result",
          "data": {
            "text/plain": [
              "['Trained_Model.pkl']"
            ]
          },
          "metadata": {},
          "execution_count": 49
        }
      ]
    }
  ]
}