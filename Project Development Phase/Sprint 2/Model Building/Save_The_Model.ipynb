{
  "nbformat": 4,
  "nbformat_minor": 0,
  "metadata": {
    "colab": {
      "provenance": []
    },
    "kernelspec": {
      "name": "python3",
      "display_name": "Python 3"
    },
    "language_info": {
      "name": "python"
    }
  },
  "cells": [
    {
      "cell_type": "markdown",
      "source": [
        "## Save The Model"
      ],
      "metadata": {
        "id": "yY5jRjluXdF7"
      }
    },
    {
      "cell_type": "code",
      "source": [
        "#Saving the model for future reference\n",
        "joblib.dump(Model,\"power_prediction.sav\")"
      ],
      "metadata": {
        "colab": {
          "base_uri": "https://localhost:8080/"
        },
        "id": "v1aVCH3mXd_7",
        "outputId": "b55527d2-cb5f-46b9-c31e-b3c696562ea6"
      },
      "execution_count": null,
      "outputs": [
        {
          "output_type": "execute_result",
          "data": {
            "text/plain": [
              "['Trained_Model.sav']"
            ]
          },
          "metadata": {},
          "execution_count": 136
        }
      ]
    },
    {
      "cell_type": "code",
      "source": [],
      "metadata": {
        "id": "JR1GeuRsahCu"
      },
      "execution_count": null,
      "outputs": []
    }
  ]
}